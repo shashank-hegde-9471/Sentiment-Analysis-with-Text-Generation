{
  "nbformat": 4,
  "nbformat_minor": 0,
  "metadata": {
    "colab": {
      "provenance": []
    },
    "kernelspec": {
      "name": "python3",
      "display_name": "Python 3"
    },
    "language_info": {
      "name": "python"
    }
  },
  "cells": [
    {
      "cell_type": "markdown",
      "source": [
        "###Conversation Generator and Sentiment Analyzer"
      ],
      "metadata": {
        "id": "gYk6yQbAO5UC"
      }
    },
    {
      "cell_type": "code",
      "source": [
        "# Importing necessary libraries\n",
        "from transformers import AutoModelForCausalLM, AutoTokenizer\n",
        "from textblob import TextBlob\n",
        "import matplotlib.pyplot as plt\n",
        "import torch\n",
        "# Load GPT-3 model and tokenizer from Hugging Face\n",
        "tokenizer = AutoTokenizer.from_pretrained(\"EleutherAI/gpt-neo-2.7B\")\n",
        "model = AutoModelForCausalLM.from_pretrained(\"EleutherAI/gpt-neo-2.7B\")"
      ],
      "metadata": {
        "colab": {
          "base_uri": "https://localhost:8080/"
        },
        "id": "smqCom-N9CMp",
        "outputId": "de2a013f-08e4-454a-c813-c25390fbb4c3"
      },
      "execution_count": 1,
      "outputs": [
        {
          "output_type": "stream",
          "name": "stderr",
          "text": [
            "/usr/local/lib/python3.10/dist-packages/huggingface_hub/utils/_token.py:88: UserWarning: \n",
            "The secret `HF_TOKEN` does not exist in your Colab secrets.\n",
            "To authenticate with the Hugging Face Hub, create a token in your settings tab (https://huggingface.co/settings/tokens), set it as secret in your Google Colab and restart your session.\n",
            "You will be able to reuse this secret in all of your notebooks.\n",
            "Please note that authentication is recommended but still optional to access public models or datasets.\n",
            "  warnings.warn(\n"
          ]
        }
      ]
    },
    {
      "cell_type": "code",
      "source": [
        "  # Function to generate response using GPT-3 model\n",
        "def generate_response(user_input, max_length=100):\n",
        "    # Tokenize the user input\n",
        "    input_ids = tokenizer.encode(user_input, return_tensors=\"pt\")\n",
        "    # Create attention mask\n",
        "    attention_mask = torch.ones(input_ids.shape, dtype=torch.long)\n",
        "    # Generate response from the model\n",
        "    response = model.generate(input_ids, attention_mask=attention_mask, max_length=max_length, num_return_sequences=1, no_repeat_ngram_size=2, top_p=0.95, temperature=0.9, pad_token_id=tokenizer.eos_token_id)\n",
        "    # Decode and return the response\n",
        "    return tokenizer.decode(response[0], skip_special_tokens=True)"
      ],
      "metadata": {
        "id": "ANXqZv1l9EBF"
      },
      "execution_count": 2,
      "outputs": []
    },
    {
      "cell_type": "code",
      "source": [
        "# Function to perform sentiment analysis using TextBlob\n",
        "def analyze_sentiment(text):\n",
        "    # Analyze sentiment using TextBlob\n",
        "    analysis = TextBlob(text)\n",
        "    # Return sentiment label based on polarity\n",
        "    if analysis.sentiment.polarity > 0:\n",
        "        return \"positive\"\n",
        "    elif analysis.sentiment.polarity < 0:\n",
        "        return \"negative\"\n",
        "    else:\n",
        "        return \"neutral\""
      ],
      "metadata": {
        "id": "l2tkNbUa9FzG"
      },
      "execution_count": 3,
      "outputs": []
    },
    {
      "cell_type": "code",
      "source": [
        "def generate_report(sentiments):\n",
        "    # Count sentiment occurrences\n",
        "    positive_count = sentiments.count(\"positive\")\n",
        "    negative_count = sentiments.count(\"negative\")\n",
        "    neutral_count = sentiments.count(\"neutral\")\n",
        "\n",
        "    # Prepare data for pie chart visualization\n",
        "    labels = ['Positive', 'Negative', 'Neutral']\n",
        "    sizes = [positive_count, negative_count, neutral_count]\n",
        "    colors = ['#ff9999', '#66b3ff', '#99ff99']\n",
        "    explode = (0.1, 0, 0)\n",
        "\n",
        "    # Create pie chart\n",
        "    plt.subplot(1, 2, 1)\n",
        "    plt.pie(sizes, explode=explode, labels=labels, colors=colors, autopct='%1.1f%%', startangle=140)\n",
        "    plt.title('Sentiment Analysis Results')\n",
        "    plt.axis('equal')\n",
        "\n",
        "    # Create bar graph\n",
        "    plt.subplot(1, 2, 2)\n",
        "    x = range(len(labels))\n",
        "    plt.bar(x, sizes, color=colors)\n",
        "    plt.xlabel('Sentiment')\n",
        "    plt.ylabel('Count')\n",
        "    plt.title('Sentiment Analysis Results')\n",
        "    plt.xticks(x, labels)\n",
        "\n",
        "    plt.tight_layout()\n",
        "    plt.show()\n",
        "\n",
        "    # Print sentiment counts\n",
        "    print(\"Positive Sentiments:\", positive_count)\n",
        "    print(\"Negative Sentiments:\", negative_count)\n",
        "    print(\"Neutral Sentiments:\", neutral_count)"
      ],
      "metadata": {
        "id": "BOdLnM6R9Ji5"
      },
      "execution_count": 4,
      "outputs": []
    },
    {
      "cell_type": "code",
      "source": [
        "# Main function for interaction\n",
        "def main():\n",
        "    print(\"Welcome to Conversation Generator!\")\n",
        "    print(\"Type 'exit' to end the conversation.\")\n",
        "\n",
        "    sentiments = []\n",
        "\n",
        "    while True:\n",
        "        # Prompt user input\n",
        "        user_input = input(\"You: \")\n",
        "        # Check if user wants to exit\n",
        "        if user_input.lower() == 'exit':\n",
        "            break\n",
        "\n",
        "        # Generate response from GPT-3\n",
        "        response = generate_response(user_input)\n",
        "        # Analyze sentiment of the response\n",
        "        sentiment = analyze_sentiment(response)\n",
        "        # Append sentiment to list\n",
        "        sentiments.append(sentiment)\n",
        "\n",
        "        # Print bot's response and sentiment\n",
        "        print(\"Bot:\", response)\n",
        "        print(\"Sentiment:\", sentiment)\n",
        "\n",
        "    # Generate report and visualizations\n",
        "    print(\"\\nGenerating Report...\")\n",
        "    generate_report(sentiments)\n",
        "\n"
      ],
      "metadata": {
        "id": "dGxJ_hIV9PO7"
      },
      "execution_count": 5,
      "outputs": []
    },
    {
      "cell_type": "code",
      "source": [
        "main()"
      ],
      "metadata": {
        "colab": {
          "base_uri": "https://localhost:8080/",
          "height": 1000
        },
        "id": "yzgdOBMj9STK",
        "outputId": "7e641111-a835-4b57-ce76-aef2b38858df"
      },
      "execution_count": 10,
      "outputs": [
        {
          "output_type": "stream",
          "name": "stdout",
          "text": [
            "Welcome to Conversation Generator!\n",
            "Type 'exit' to end the conversation.\n",
            "You: What is AI ?\n",
            "Bot: What is AI?\n",
            "\n",
            "AI is the science of making machines intelligent. It is a field of computer science that studies the relationship between computers and other intelligent agents.\n",
            "The term artificial intelligence (AI) was first coined by John McCarthy in 1956. AI is an umbrella term for a variety of related fields, including cognitive science, robotics, and machine learning. The term AI was coined in the 1950s by computer scientist John von Neumann, who was inspired by the work of the mathematician Alan Turing\n",
            "Sentiment: positive\n",
            "You: Explain Machine Learning\n",
            "Bot: Explain Machine Learning\n",
            "\n",
            "Machine learning is a field of computer science that uses algorithms to learn from data. It is used in many different fields, including computer vision, speech recognition, and natural language processing.\n",
            "In this course, we will learn about the different types of machine learning algorithms and how they work. We will also learn how to use machine-learning techniques to solve problems in the real world. By the end of this class, you will be able to:\n",
            "• Explain the difference\n",
            "Sentiment: positive\n",
            "You: Who is Narendra Modi?\n",
            "Bot: Who is Narendra Modi?\n",
            "\n",
            "Narendra Modi is the Prime Minister of India. He is a Hindu nationalist politician who has been the prime minister of the Indian state of Gujarat since May 2014. Modi was born on September 30, 1955, in a small village in Gujarat, India, to a family of farmers. His father, Narendra, was a farmer and his mother, Kasturbai, worked as a housewife. Narendra was the youngest of five children.\n",
            "He was educated at\n",
            "Sentiment: negative\n",
            "You: I am feeling Sad\n",
            "Bot: I am feeling Sad and I am not sure why. I have been feeling this way for a while now. It started when I was in my early 20s and it has been going on ever since.\n",
            "\n",
            "I have always been a happy person. But I feel like I don't have the energy to be happy. And I can't seem to find the right words to describe what I'm feeling. So I thought I would write about it. Maybe it will help someone else. Or maybe\n",
            "Sentiment: positive\n",
            "You: Who is Conor McGregor\n",
            "Bot: Who is Conor McGregor?\n",
            "\n",
            "Conor McGregor is a UFC fighter, a mixed martial artist, and a professional boxer. He is also a former Irish national champion in both boxing and MMA.\n",
            "He is the current UFC featherweight champion, having defeated Jose Aldo in the UFC 205 main event at UFC 202. McGregor has also won the feather weight division of the WEC, the promotion he was a part of when he won his first UFC title. His nickname is “The Notorious\n",
            "Sentiment: positive\n",
            "You: What is Karate ?\n",
            "Bot: What is Karate?\n",
            "\n",
            "Karate is a martial art that originated in Japan. It is one of the most popular martial arts in the world. Karatedo is the Japanese word for “the way of Karates”.\n",
            "The word Karata is derived from the Sanskrit word ‘kar’ meaning ”to strike“. The word karate was first used in 1884 by a Japanese martial artist named Karuizawa. He was a student of a\n",
            "Sentiment: positive\n",
            "You: Tell about Pulwama Terrorist Attack\n",
            "Bot: Tell about Pulwama Terrorist Attack\n",
            "\n",
            "The Pulawama terror attack was a terrorist attack on a CRPF convoy in Pulwana, Jammu and Kashmir, India, on 14 February 2019. The attack killed 40 CRPF personnel and injured over 100 others.\n",
            "In the attack, a suicide bomber rammed his explosives-laden vehicle into the convoy of the CRPSF, killing 40 personnel. He was killed by security forces. In the aftermath of this attack the Indian government blamed\n",
            "Sentiment: negative\n",
            "You: Tell about Ukraine-Russia War\n",
            "Bot: Tell about Ukraine-Russia War\n",
            "\n",
            "The Ukraine is a country in Eastern Europe, located in the European part of the world. It is bordered by Russia to the north, Belarus to its east, Poland to south, and Moldova to west. The country is also bifurcated into two parts, the eastern part is called the Donetsk People's Republic (DPR) and the western part - the Lugansk People’s Republic.\n",
            "Ukraine is one of Europe's most\n",
            "Sentiment: positive\n",
            "You: Tell about Mumbai terrorist attack\n",
            "Bot: Tell about Mumbai terrorist attack.\n",
            "\n",
            "A:\n",
            "The Mumbai terror attack was a terrorist act carried out by the Lashkar-e-Taiba (LeT) terrorist group. The attack took place on 26 November 2008, when a group of terrorists attacked the city of Mumbai, India. A total of 164 people were killed and more than 500 injured. This attack is considered to be the deadliest terrorist incident in India since the 26/11 Mumbai attacks in 2008. It was the first time that\n",
            "Sentiment: positive\n",
            "You: exit\n",
            "\n",
            "Generating Report...\n"
          ]
        },
        {
          "output_type": "display_data",
          "data": {
            "text/plain": [
              "<Figure size 640x480 with 2 Axes>"
            ],
            "image/png": "[encoded data removed]"
          },
          "metadata": {}
        },
        {
          "output_type": "stream",
          "name": "stdout",
          "text": [
            "Positive Sentiments: 7\n",
            "Negative Sentiments: 2\n",
            "Neutral Sentiments: 0\n"
          ]
        }
      ]
    }
  ]
}